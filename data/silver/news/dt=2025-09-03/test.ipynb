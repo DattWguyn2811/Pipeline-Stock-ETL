{
 "cells": [
  {
   "cell_type": "code",
   "execution_count": 1,
   "id": "39b11020",
   "metadata": {},
   "outputs": [],
   "source": [
    "from pyspark.sql import SparkSession\n",
    "import logging\n"
   ]
  },
  {
   "cell_type": "code",
   "execution_count": 2,
   "metadata": {},
   "outputs": [
    {
     "name": "stderr",
     "output_type": "stream",
     "text": [
      "Setting default log level to \"WARN\".\n",
      "To adjust logging level use sc.setLogLevel(newLevel). For SparkR, use setLogLevel(newLevel).\n",
      "25/09/04 07:16:20 WARN NativeCodeLoader: Unable to load native-hadoop library for your platform... using builtin-java classes where applicable\n",
      "25/09/04 07:16:22 WARN Utils: Service 'SparkUI' could not bind on port 4040. Attempting port 4041.\n"
     ]
    }
   ],
   "source": [
    "spark = SparkSession.builder \\\n",
    "    .appName(\"Check Silver Data\") \\\n",
    "    .getOrCreate()"
   ]
  },
  {
   "cell_type": "code",
   "execution_count": 3,
   "id": "102f6291",
   "metadata": {},
   "outputs": [],
   "source": [
    "hdfs_path = \"hdfs://localhost:9000/user/tiendat/datalake/elt/silver/news\""
   ]
  },
  {
   "cell_type": "code",
   "execution_count": 4,
   "id": "2d3a441f",
   "metadata": {},
   "outputs": [
    {
     "name": "stderr",
     "output_type": "stream",
     "text": [
      "                                                                                \r"
     ]
    }
   ],
   "source": [
    "df = spark.read.parquet(hdfs_path)"
   ]
  },
  {
   "cell_type": "code",
   "execution_count": 5,
   "id": "e2db448d",
   "metadata": {},
   "outputs": [
    {
     "name": "stdout",
     "output_type": "stream",
     "text": [
      "===== Schema =====\n",
      "root\n",
      " |-- title: string (nullable = true)\n",
      " |-- url: string (nullable = true)\n",
      " |-- time_published: string (nullable = true)\n",
      " |-- authors: array (nullable = true)\n",
      " |    |-- element: string (containsNull = true)\n",
      " |-- summary: string (nullable = true)\n",
      " |-- banner_image: string (nullable = true)\n",
      " |-- source: string (nullable = true)\n",
      " |-- category_within_source: string (nullable = true)\n",
      " |-- source_domain: string (nullable = true)\n",
      " |-- overall_sentiment_score: double (nullable = true)\n",
      " |-- overall_sentiment_label: string (nullable = true)\n",
      " |-- ticker_name: string (nullable = true)\n",
      " |-- ticker_relevance_score: double (nullable = true)\n",
      " |-- ticker_sentiment_label: string (nullable = true)\n",
      " |-- topic_name: string (nullable = true)\n",
      " |-- topic_relevance_score: double (nullable = true)\n",
      " |-- dt: date (nullable = true)\n",
      "\n"
     ]
    }
   ],
   "source": [
    "print(\"===== Schema =====\")\n",
    "df.printSchema()"
   ]
  },
  {
   "cell_type": "code",
   "execution_count": 6,
   "id": "95bb2da9",
   "metadata": {},
   "outputs": [
    {
     "name": "stdout",
     "output_type": "stream",
     "text": [
      "===== Sample Data =====\n"
     ]
    },
    {
     "name": "stderr",
     "output_type": "stream",
     "text": [
      "                                                                                \r"
     ]
    },
    {
     "name": "stdout",
     "output_type": "stream",
     "text": [
      "+---------------------------------------------------------------------------------------------------------------------------------+---------------------------------------------------------------------------------------------------------------------------------------------------------+-------------------+--------------------------+------------------------------------------------------------------------------------------------------------------------------------------------------------------------------------------------------------------------------------------------------------------------------------------------------------+-----------------------------------------------------------------------------------------------------------------------------------+----------------+----------------------+---------------------+-----------------------+-----------------------+-----------+----------------------+----------------------+-----------------+---------------------+----------+\n",
      "|title                                                                                                                            |url                                                                                                                                                      |time_published     |authors                   |summary                                                                                                                                                                                                                                                                                                     |banner_image                                                                                                                       |source          |category_within_source|source_domain        |overall_sentiment_score|overall_sentiment_label|ticker_name|ticker_relevance_score|ticker_sentiment_label|topic_name       |topic_relevance_score|dt        |\n",
      "+---------------------------------------------------------------------------------------------------------------------------------+---------------------------------------------------------------------------------------------------------------------------------------------------------+-------------------+--------------------------+------------------------------------------------------------------------------------------------------------------------------------------------------------------------------------------------------------------------------------------------------------------------------------------------------------+-----------------------------------------------------------------------------------------------------------------------------------+----------------+----------------------+---------------------+-----------------------+-----------------------+-----------+----------------------+----------------------+-----------------+---------------------+----------+\n",
      "|Jim Cramer: AppLovin Calls For Prudence, This Health Care Stock Is 'Pure Spec' - AppLovin  ( NASDAQ:APP ) , Ameris  ( NYSE:ABCB )|https://www.benzinga.com/analyst-stock-ratings/analyst-color/25/09/47469604/jim-cramer-applovin-prudence-this-health-care-stock-is-pure-spec             |2025-09-03 11:46:59|[Avi Kapoor]              |\"Let's take a little off the table just to be prudent,\" Cramer on AppLovin. SiTime is just a \"very good\" company, says Cramer. Post-Labor Day Trading Could Trigger Major Market Moves. Here's How to Trade It On CNBC's \"Mad Money Lightning Round,\" Jim Cramer doesn't recommend buying more AppLovin ... |https://cdn.benzinga.com/files/images/story/2025/09/03/Jakarta---August-15-2024-Applovin-Corpor.jpeg?width=1200&height=800&fit=crop|Benzinga        |Trading               |www.benzinga.com     |0.22699                |Somewhat-Bullish       |FDMT       |0.428632              |Neutral               |Finance          |0.2                  |2025-09-03|\n",
      "|Sprinklr Posts 8% Revenue Gain in Q2                                                                                             |https://www.fool.com/data-news/2025/09/03/sprinklr-posts-8-revenue-gain-in-q2/                                                                           |2025-09-03 11:41:07|[Motley Fool Markets Team]|Sprinklr ( NYSE:CXM ) , a customer experience management software company, reported Q2 FY2026 earnings on September 3, 2025. GAAP revenue was $212.0 million in Q2 FY2026, surpassing the midpoint of earlier guidance and up 8% year-over-year. Subscription revenue and non-GAAP profits also exceeded ...|https://cdn.content.foolcdn.com/images/1umn9qeh/production/2e67fde4d458002cf59f26acf09dd58f97b62ce0-1024x1024.png                  |Motley Fool     |n/a                   |www.fool.com         |0.287035               |Somewhat-Bullish       |n/a        |0.0                   |n/a                   |Earnings         |1.0                  |2025-09-03|\n",
      "|Walmart-backed fintech OnePay is adding wireless plans to its everything app                                                     |https://www.cnbc.com/2025/09/03/walmart-backed-onepay-adds-wireless.html                                                                                 |2025-09-03 11:30:01|[]                        |The OnePay launch is the latest example of a fintech firm adding wireless connectivity to its product set. Klarna and Nubank have made similar announcements.                                                                                                                                               |n/a                                                                                                                                |CNBC            |Business              |www.cnbc.com         |0.124382               |Neutral                |WMT        |0.288893              |Somewhat-Bullish      |Technology       |0.5                  |2025-09-03|\n",
      "|Kymera Therapeutics Appoints Brian Adams as Chief Legal Officer and Corporate Secretary - Kymera Therapeutics  ( NASDAQ:KYMR )   |https://www.benzinga.com/pressreleases/25/09/g47468701/kymera-therapeutics-appoints-brian-adams-as-chief-legal-officer-and-corporate-secretary           |2025-09-03 11:00:00|[Globe Newswire]          |WATERTOWN, Mass., Sept. 03, 2025 ( GLOBE NEWSWIRE ) -- Kymera Therapeutics, Inc. KYMR, a clinical-stage biopharmaceutical company advancing a new class of oral small molecule degrader medicines for immunological diseases, today announced the appointment of Brian Adams, JD, as Chief Legal Officer ...|https://www.benzinga.com/next-assets/images/schema-image-default.png                                                               |Benzinga        |News                  |www.benzinga.com     |0.353361               |Bullish                |KYMR       |0.325208              |Bullish               |Life Sciences    |1.0                  |2025-09-03|\n",
      "|Multiple Mineralized Skarn Horizons Intersected at the Birch Copper-Gold Project                                                 |https://www.globenewswire.com/news-release/2025/09/03/3143436/0/en/Multiple-Mineralized-Skarn-Horizons-Intersected-at-the-Birch-Copper-Gold-Project.html |2025-09-03 11:00:00|[Yukon Metals Corp.]      |VANCOUVER, British Columbia, Sept. 03, 2025 ( GLOBE NEWSWIRE ) -- Yukon Metals Corp. ( CSE: YMC, FSE: E770, OTCQB: YMMCF ) ( \"Yukon Metals\" or the \"Company ) is pleased to provide an update from its exploration activities on its 100%-owned 7,000-hectare Birch Property ( \"Birch\" ) , located 65 ...   |https://ml.globenewswire.com/Resource/Download/1811127e-a0cb-4dd5-aad8-0a186cf6027b/yukon-figure-1.png                             |GlobeNewswire   |n/a                   |www.globenewswire.com|0.152602               |Somewhat-Bullish       |CRML       |0.020958              |Neutral               |n/a              |0.0                  |2025-09-03|\n",
      "|Breckenridge Distillery Expands California Distribution with Winebow                                                             |https://www.globenewswire.com/news-release/2025/09/03/3143454/0/en/Breckenridge-Distillery-Expands-California-Distribution-with-Winebow.html             |2025-09-03 11:00:00|[Tilray Brands, Inc.]     |BRECKENRIDGE, Colo., Sept. 03, 2025 ( GLOBE NEWSWIRE ) -- Breckenridge Distillery, an award-winning craft distillery and spirits brand owned by Tilray Brands, Inc. ( NASDAQ: TLRY. TSX: TLRY ) , has announced a strategic change in its California distribution approach, appointing Winebow, a ...       |https://ml.globenewswire.com/Resource/Download/2dbf85bb-5e30-4623-8f9b-931442240c05                                                |GlobeNewswire   |n/a                   |www.globenewswire.com|0.381776               |Bullish                |TLRY       |0.268084              |Bullish               |Financial Markets|0.310843             |2025-09-03|\n",
      "|What September Slump? 5 ETFs to Play Now                                                                                         |https://www.zacks.com/stock/news/2746427/what-september-slump-5-etfs-to-play-now                                                                         |2025-09-03 11:00:00|[Sanghamitra Saha]        |With Fed rate cut hopes and resilient earnings, these 5 ETFs could defy September's historic slump and shine. These ETFs are XLF, OUSA, RTH, GDX and CIBR.                                                                                                                                                  |https://staticx-tuner.zacks.com/images/articles/main/bd/484.jpg                                                                    |Zacks Commentary|n/a                   |www.zacks.com        |0.154535               |Somewhat-Bullish       |n/a        |0.0                   |n/a                   |Earnings         |0.682689             |2025-09-03|\n",
      "|If You'd Invested $1,000 in the iShares Core S&P Small-Cap ETF  ( IJR )  10 Years Ago, Here's How Much You'd Have Today          |https://www.fool.com/investing/2025/09/03/if-youd-invested-1000-in-the-ishares-core-sp-small/                                                            |2025-09-03 10:52:00|[James Brumley]           |You'd be up, but not up as much as you would have been with something else much easier to access and monitor.                                                                                                                                                                                               |https://media.ycharts.com/charts/69551cb6dbc2b61f871f81dd86dafefa.png                                                              |Motley Fool     |n/a                   |www.fool.com         |0.131711               |Neutral                |n/a        |0.0                   |n/a                   |Financial Markets|0.818451             |2025-09-03|\n",
      "|Is ProShares S&P Technology Dividend Aristocrats ETF  ( TDV )  a Strong ETF Right Now?                                           |https://www.zacks.com/stock/news/2746422/is-proshares-sp-technology-dividend-aristocrats-etf-tdv-a-strong-etf-right-now                                  |2025-09-03 10:20:02|[Zacks Equity Research]   |Smart Beta ETF report for ...                                                                                                                                                                                                                                                                               |https://staticx-tuner.zacks.com/images/default_article_images/default16.jpg                                                        |Zacks Commentary|n/a                   |www.zacks.com        |0.28759                |Somewhat-Bullish       |MORN       |0.063091              |Somewhat-Bullish      |Finance          |0.333333             |2025-09-03|\n",
      "|Tesla, GM Supplier CATL Dominates Global EV Battery Supply Charts With 37.5% Market Share, BYD Emerges 2nd                       |https://www.benzinga.com/markets/tech/25/09/47468041/tesla-gm-supplier-catl-dominates-global-ev-battery-supply-charts-with-37-5-market-share-byd-emerges-|2025-09-03 10:17:09|[Badar Shaikh]            |Tesla Inc. TSLA and General Motors Co. GM EV battery supplier Contemporary Amperex Technologies Ltd. ( CATL ) has topped the global EV battery market, leading the sector with a healthy lead over closest rival BYD Co. Ltd. BYDDY BYDDF.                                                                  |https://cdn.benzinga.com/files/images/story/2025/09/03/Company-Logo-Catl-Contemporary-Amperex-T.jpeg?width=1200&height=800&fit=crop|Benzinga        |News                  |www.benzinga.com     |0.163384               |Somewhat-Bullish       |TSLA       |0.263942              |Somewhat-Bullish      |Financial Markets|0.538269             |2025-09-03|\n",
      "+---------------------------------------------------------------------------------------------------------------------------------+---------------------------------------------------------------------------------------------------------------------------------------------------------+-------------------+--------------------------+------------------------------------------------------------------------------------------------------------------------------------------------------------------------------------------------------------------------------------------------------------------------------------------------------------+-----------------------------------------------------------------------------------------------------------------------------------+----------------+----------------------+---------------------+-----------------------+-----------------------+-----------+----------------------+----------------------+-----------------+---------------------+----------+\n",
      "only showing top 10 rows\n",
      "\n"
     ]
    }
   ],
   "source": [
    "print(\"===== Sample Data =====\")\n",
    "df.show(10, truncate=False)"
   ]
  },
  {
   "cell_type": "code",
   "execution_count": 7,
   "id": "adf0573a",
   "metadata": {},
   "outputs": [
    {
     "name": "stdout",
     "output_type": "stream",
     "text": [
      "===== Row Count =====\n",
      "8816\n"
     ]
    }
   ],
   "source": [
    "print(\"===== Row Count =====\")\n",
    "print(df.count())"
   ]
  },
  {
   "cell_type": "code",
   "execution_count": 8,
   "id": "625ab644",
   "metadata": {},
   "outputs": [
    {
     "name": "stdout",
     "output_type": "stream",
     "text": [
      "===== Distinct partitions =====\n",
      "+----------+\n",
      "|        dt|\n",
      "+----------+\n",
      "|2025-09-03|\n",
      "+----------+\n",
      "\n",
      "===== Row count per partition =====\n",
      "+----------+-----+\n",
      "|        dt|count|\n",
      "+----------+-----+\n",
      "|2025-09-03| 8816|\n",
      "+----------+-----+\n",
      "\n"
     ]
    }
   ],
   "source": [
    "# Danh sách partition nếu có cột dt\n",
    "if \"dt\" in df.columns:\n",
    "    print(\"===== Distinct partitions =====\")\n",
    "    df.select(\"dt\").distinct().show()\n",
    "\n",
    "    print(\"===== Row count per partition =====\")\n",
    "    df.groupBy(\"dt\").count().orderBy(\"dt\").show()"
   ]
  },
  {
   "cell_type": "code",
   "execution_count": null,
   "id": "deda1e8b",
   "metadata": {},
   "outputs": [],
   "source": []
  }
 ],
 "metadata": {
  "kernelspec": {
   "display_name": ".venv (3.12.3)",
   "language": "python",
   "name": "python3"
  },
  "language_info": {
   "codemirror_mode": {
    "name": "ipython",
    "version": 3
   },
   "file_extension": ".py",
   "mimetype": "text/x-python",
   "name": "python",
   "nbconvert_exporter": "python",
   "pygments_lexer": "ipython3",
   "version": "3.12.3"
  }
 },
 "nbformat": 4,
 "nbformat_minor": 5
}
