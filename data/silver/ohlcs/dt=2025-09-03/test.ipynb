{
 "cells": [
  {
   "cell_type": "code",
   "execution_count": 1,
   "id": "6cc016da",
   "metadata": {},
   "outputs": [],
   "source": [
    "from pyspark.sql import SparkSession\n",
    "import logging\n"
   ]
  },
  {
   "cell_type": "code",
   "execution_count": 2,
   "id": "7e716ca2",
   "metadata": {},
   "outputs": [
    {
     "name": "stderr",
     "output_type": "stream",
     "text": [
      "Setting default log level to \"WARN\".\n",
      "To adjust logging level use sc.setLogLevel(newLevel). For SparkR, use setLogLevel(newLevel).\n",
      "25/09/04 14:13:47 WARN NativeCodeLoader: Unable to load native-hadoop library for your platform... using builtin-java classes where applicable\n"
     ]
    }
   ],
   "source": [
    "spark = SparkSession.builder \\\n",
    "    .appName(\"Check Silver Data\") \\\n",
    "    .getOrCreate()"
   ]
  },
  {
   "cell_type": "code",
   "execution_count": 3,
   "id": "1fae9634",
   "metadata": {},
   "outputs": [],
   "source": [
    "hdfs_path = \"hdfs://localhost:9000/user/tiendat/datalake/elt/silver/ohlcs\""
   ]
  },
  {
   "cell_type": "code",
   "execution_count": 4,
   "id": "d55b21fb",
   "metadata": {},
   "outputs": [
    {
     "name": "stderr",
     "output_type": "stream",
     "text": [
      "                                                                                \r"
     ]
    }
   ],
   "source": [
    "df = spark.read.parquet(hdfs_path)"
   ]
  },
  {
   "cell_type": "code",
   "execution_count": 5,
   "id": "60f874f2",
   "metadata": {},
   "outputs": [
    {
     "name": "stdout",
     "output_type": "stream",
     "text": [
      "===== Schema =====\n",
      "root\n",
      " |-- company_ticker: string (nullable = true)\n",
      " |-- volume: double (nullable = true)\n",
      " |-- volume_weighted: double (nullable = true)\n",
      " |-- open: double (nullable = true)\n",
      " |-- close: double (nullable = true)\n",
      " |-- high: double (nullable = true)\n",
      " |-- low: double (nullable = true)\n",
      " |-- time_stamp: timestamp (nullable = true)\n",
      " |-- num_of_trades: long (nullable = true)\n",
      " |-- is_otc: boolean (nullable = true)\n",
      " |-- dt: date (nullable = true)\n",
      "\n"
     ]
    }
   ],
   "source": [
    "print(\"===== Schema =====\")\n",
    "df.printSchema()"
   ]
  },
  {
   "cell_type": "code",
   "execution_count": 6,
   "id": "18d33a90",
   "metadata": {},
   "outputs": [
    {
     "name": "stdout",
     "output_type": "stream",
     "text": [
      "===== Sample Data =====\n"
     ]
    },
    {
     "name": "stderr",
     "output_type": "stream",
     "text": [
      "                                                                                \r"
     ]
    },
    {
     "name": "stdout",
     "output_type": "stream",
     "text": [
      "+--------------+---------+---------------+------+-------+--------+-------+-------------------+-------------+------+----------+\n",
      "|company_ticker|volume   |volume_weighted|open  |close  |high    |low    |time_stamp         |num_of_trades|is_otc|dt        |\n",
      "+--------------+---------+---------------+------+-------+--------+-------+-------------------+-------------+------+----------+\n",
      "|JEPI          |4519219.0|56.4993        |56.65 |56.58  |56.7096 |56.35  |2025-09-03 20:00:00|35534        |false |2025-09-03|\n",
      "|ARREF         |230448.0 |1.6743         |1.6193|1.6719 |1.71    |1.6193 |2025-09-03 20:00:00|55           |true  |2025-09-03|\n",
      "|EXPE          |1191273.0|211.8003       |212.4 |212.535|214.7999|210.03 |2025-09-03 20:00:00|25969        |false |2025-09-03|\n",
      "|BTZ           |185021.0 |10.9574        |10.94 |10.97  |11.0    |10.9012|2025-09-03 20:00:00|744          |false |2025-09-03|\n",
      "|FLCG          |11282.0  |31.1915        |31.27 |31.3   |31.3084 |31.135 |2025-09-03 20:00:00|67           |false |2025-09-03|\n",
      "|BCML          |7303.0   |29.7688        |29.63 |29.76  |29.88   |29.63  |2025-09-03 20:00:00|513          |false |2025-09-03|\n",
      "|HYS           |74503.0  |94.9895        |94.87 |95.06  |95.09   |94.71  |2025-09-03 20:00:00|1259         |false |2025-09-03|\n",
      "|NB            |2347318.0|4.4453         |4.46  |4.36   |4.7198  |4.32   |2025-09-03 20:00:00|12142        |false |2025-09-03|\n",
      "|SRE           |3238877.0|82.024         |82.45 |82.23  |82.97   |81.355 |2025-09-03 20:00:00|48066        |false |2025-09-03|\n",
      "|VGMS          |62151.0  |51.3695        |51.24 |51.42  |51.48   |51.24  |2025-09-03 20:00:00|287          |false |2025-09-03|\n",
      "+--------------+---------+---------------+------+-------+--------+-------+-------------------+-------------+------+----------+\n",
      "only showing top 10 rows\n",
      "\n"
     ]
    }
   ],
   "source": [
    "print(\"===== Sample Data =====\")\n",
    "df.show(10, truncate=False)"
   ]
  },
  {
   "cell_type": "code",
   "execution_count": 7,
   "id": "da4ef21a",
   "metadata": {},
   "outputs": [
    {
     "name": "stdout",
     "output_type": "stream",
     "text": [
      "===== Row Count =====\n",
      "15500\n"
     ]
    }
   ],
   "source": [
    "print(\"===== Row Count =====\")\n",
    "print(df.count())"
   ]
  },
  {
   "cell_type": "code",
   "execution_count": 8,
   "id": "a0a044da",
   "metadata": {},
   "outputs": [
    {
     "name": "stdout",
     "output_type": "stream",
     "text": [
      "===== Distinct partitions =====\n",
      "+----------+\n",
      "|        dt|\n",
      "+----------+\n",
      "|2025-09-03|\n",
      "+----------+\n",
      "\n",
      "===== Row count per partition =====\n",
      "+----------+-----+\n",
      "|        dt|count|\n",
      "+----------+-----+\n",
      "|2025-09-03|15500|\n",
      "+----------+-----+\n",
      "\n"
     ]
    }
   ],
   "source": [
    "# Danh sách partition nếu có cột dt\n",
    "if \"dt\" in df.columns:\n",
    "    print(\"===== Distinct partitions =====\")\n",
    "    df.select(\"dt\").distinct().show()\n",
    "\n",
    "    print(\"===== Row count per partition =====\")\n",
    "    df.groupBy(\"dt\").count().orderBy(\"dt\").show()"
   ]
  },
  {
   "cell_type": "code",
   "execution_count": null,
   "id": "04c2fe95",
   "metadata": {},
   "outputs": [],
   "source": []
  }
 ],
 "metadata": {
  "kernelspec": {
   "display_name": ".venv (3.12.3)",
   "language": "python",
   "name": "python3"
  },
  "language_info": {
   "codemirror_mode": {
    "name": "ipython",
    "version": 3
   },
   "file_extension": ".py",
   "mimetype": "text/x-python",
   "name": "python",
   "nbconvert_exporter": "python",
   "pygments_lexer": "ipython3",
   "version": "3.12.3"
  }
 },
 "nbformat": 4,
 "nbformat_minor": 5
}
